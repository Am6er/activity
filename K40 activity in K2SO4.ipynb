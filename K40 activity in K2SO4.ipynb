{
 "cells": [
  {
   "cell_type": "code",
   "execution_count": 1,
   "outputs": [
    {
     "name": "stdout",
     "output_type": "stream",
     "text": [
      "total mass: 1.0000 kg\n",
      "mass of K:  0.4488 kg\n",
      "number of K nuclei: 6.9117e+24\n",
      "K-40 abundance 0.01170000 %\n",
      "number of K-40 nuclei: 8.0867e+20\n",
      "activity: 14233.7325 Bq, 0.3847 uCi\n"
     ]
    }
   ],
   "source": [
    "import becquerel as bq\n",
    "import numpy as np\n",
    "from scipy.constants import physical_constants\n",
    "\n",
    "# weight in kg\n",
    "mass = 1000.0 / 1000.0\n",
    "\n",
    "# constants\n",
    "AMU = physical_constants['unified atomic mass unit'][0]\n",
    "K = bq.Element('Potassium')\n",
    "K40 = bq.Isotope('K-40')\n",
    "S = bq.Element('Sulfur')\n",
    "O = bq.Element('Oxygen')\n",
    "\n",
    "# calculate number of K and K-40 atoms in the sample\n",
    "mass_K = mass * 2 * K.atomic_mass / (2 * K.atomic_mass + S.atomic_mass + 4 * O.atomic_mass)\n",
    "n_K = mass_K / AMU / K.atomic_mass\n",
    "n_K40 = n_K * K40.abundance.nominal_value / 100\n",
    "\n",
    "# determine activity of K-40\n",
    "# n(t) = n0 2^(-t / hl) = n0 exp(-t ln(2) / hl)\n",
    "# dn/dt = -n0 ln(2) / hl exp(-t ln(2) / hl)\n",
    "activity_Bq = n_K40 * np.log(2) / K40.half_life\n",
    "activity_uCi = activity_Bq / 3.7e4\n",
    "\n",
    "print('total mass: {:.4f} kg'.format(mass))\n",
    "print('mass of K:  {:.4f} kg'.format(mass_K))\n",
    "print('number of K nuclei: {:.4e}'.format(n_K))\n",
    "print('K-40 abundance {:.8f} %'.format(K40.abundance.nominal_value))\n",
    "print('number of K-40 nuclei: {:.4e}'.format(n_K40))\n",
    "print('activity: {:.4f} Bq, {:.4f} uCi'.format(activity_Bq, activity_uCi))"
   ],
   "metadata": {
    "collapsed": false
   }
  },
  {
   "cell_type": "code",
   "execution_count": null,
   "outputs": [],
   "source": [],
   "metadata": {
    "collapsed": false
   }
  }
 ],
 "metadata": {
  "kernelspec": {
   "display_name": "Python 3",
   "language": "python",
   "name": "python3"
  },
  "language_info": {
   "codemirror_mode": {
    "name": "ipython",
    "version": 2
   },
   "file_extension": ".py",
   "mimetype": "text/x-python",
   "name": "python",
   "nbconvert_exporter": "python",
   "pygments_lexer": "ipython2",
   "version": "2.7.6"
  }
 },
 "nbformat": 4,
 "nbformat_minor": 0
}
