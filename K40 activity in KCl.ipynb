{
 "cells": [
  {
   "cell_type": "code",
   "execution_count": 1,
   "outputs": [
    {
     "name": "stdout",
     "output_type": "stream",
     "text": [
      "total mass: 0.2236 kg\n",
      "mass of K:  0.1173 kg\n",
      "number of K nuclei: 1.8066e+24\n",
      "number of K-40 nuclei: 2.1137e+20\n",
      "activity: 3720.3890 Bq, 0.1006 uCi\n"
     ]
    }
   ],
   "source": [
    "import becquerel as bq\n",
    "import numpy as np\n",
    "from scipy.constants import physical_constants\n",
    "\n",
    "# weight in kg\n",
    "mass = 4 * 55.91 / 1000.0\n",
    "\n",
    "# constants\n",
    "AMU = physical_constants['unified atomic mass unit'][0]\n",
    "K = bq.Element('Potassium')\n",
    "K40 = bq.Isotope('K-40')\n",
    "Cl = bq.Element('Cl')\n",
    "\n",
    "# calculate number of K and K-40 atoms in the sample\n",
    "mass_K = mass * K.atomic_mass / (K.atomic_mass + Cl.atomic_mass)\n",
    "n_K = mass_K / AMU / K.atomic_mass\n",
    "n_K40 = n_K * K40.abundance.nominal_value / 100\n",
    "\n",
    "# determine activity of K-40\n",
    "# n(t) = n0 2^(-t / hl) = n0 exp(-t ln(2) / hl)\n",
    "# dn/dt = -n0 ln(2) / hl exp(-t ln(2) / hl)\n",
    "activity_Bq = n_K40 * np.log(2) / K40.half_life\n",
    "activity_uCi = activity_Bq / 3.7e4\n",
    "\n",
    "print('total mass: {:.4f} kg'.format(mass))\n",
    "print('mass of K:  {:.4f} kg'.format(mass_K))\n",
    "print('number of K nuclei: {:.4e}'.format(n_K))\n",
    "print('number of K-40 nuclei: {:.4e}'.format(n_K40))\n",
    "print('activity: {:.4f} Bq, {:.4f} uCi'.format(activity_Bq, activity_uCi))"
   ],
   "metadata": {
    "collapsed": false
   }
  },
  {
   "cell_type": "code",
   "execution_count": null,
   "outputs": [],
   "source": [],
   "metadata": {
    "collapsed": false
   }
  }
 ],
 "metadata": {
  "kernelspec": {
   "display_name": "Python 3",
   "language": "python",
   "name": "python3"
  },
  "language_info": {
   "codemirror_mode": {
    "name": "ipython",
    "version": 2
   },
   "file_extension": ".py",
   "mimetype": "text/x-python",
   "name": "python",
   "nbconvert_exporter": "python",
   "pygments_lexer": "ipython2",
   "version": "2.7.6"
  }
 },
 "nbformat": 4,
 "nbformat_minor": 0
}
