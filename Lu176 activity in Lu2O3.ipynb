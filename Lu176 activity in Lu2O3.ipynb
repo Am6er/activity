{
 "cells": [
  {
   "cell_type": "code",
   "execution_count": 1,
   "metadata": {
    "collapsed": true
   },
   "outputs": [
    {
     "name": "stdout",
     "output_type": "stream",
     "text": [
      "total mass: 0.0200 kg\n",
      "mass of Lu:  0.0176 kg\n",
      "number of Lu nuclei: 6.0533e+22\n",
      "number of Lu-176 nuclei: 1.5733e+21\n",
      "activity: 918.7013 Bq, 0.0248 uCi\n"
     ]
    }
   ],
   "source": [
    "import becquerel as bq\n",
    "import numpy as np\n",
    "from scipy.constants import physical_constants\n",
    "\n",
    "# weight in kg\n",
    "mass = 20 / 1000.0\n",
    "\n",
    "# constants\n",
    "AMU = physical_constants['unified atomic mass unit'][0]\n",
    "Lu = bq.Element('Lutetium')\n",
    "Lu176 = bq.Isotope('Lu-176')\n",
    "O = bq.Element('O')\n",
    "\n",
    "# calculate number of Lu and Lu-176 atoms in the sample\n",
    "mass_Lu = mass * 2 * Lu.atomic_mass / (2 * Lu.atomic_mass + 3 * O.atomic_mass)\n",
    "n_Lu = mass_Lu / AMU / Lu.atomic_mass\n",
    "n_Lu176 = n_Lu * Lu176.abundance.nominal_value / 100\n",
    "\n",
    "# determine activity of Lu-176\n",
    "# n(t) = n0 2^(-t / hl) = n0 exp(-t ln(2) / hl)\n",
    "# dn/dt = -n0 ln(2) / hl exp(-t ln(2) / hl)\n",
    "activity_Bq = n_Lu176 * np.log(2) / Lu176.half_life\n",
    "activity_uCi = activity_Bq / 3.7e4\n",
    "\n",
    "print('total mass: {:.4f} kg'.format(mass))\n",
    "print('mass of Lu:  {:.4f} kg'.format(mass_Lu))\n",
    "print('number of Lu nuclei: {:.4e}'.format(n_Lu))\n",
    "print('number of Lu-176 nuclei: {:.4e}'.format(n_Lu176))\n",
    "print('activity: {:.4f} Bq, {:.4f} uCi'.format(activity_Bq, activity_uCi))"
   ]
  },
  {
   "cell_type": "code",
   "execution_count": null,
   "outputs": [],
   "source": [],
   "metadata": {
    "collapsed": false
   }
  }
 ],
 "metadata": {
  "kernelspec": {
   "display_name": "Python 3",
   "language": "python",
   "name": "python3"
  },
  "language_info": {
   "codemirror_mode": {
    "name": "ipython",
    "version": 2
   },
   "file_extension": ".py",
   "mimetype": "text/x-python",
   "name": "python",
   "nbconvert_exporter": "python",
   "pygments_lexer": "ipython2",
   "version": "2.7.6"
  }
 },
 "nbformat": 4,
 "nbformat_minor": 0
}
